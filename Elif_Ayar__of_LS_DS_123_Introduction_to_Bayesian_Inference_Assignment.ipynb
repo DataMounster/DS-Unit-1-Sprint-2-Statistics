{
  "nbformat": 4,
  "nbformat_minor": 0,
  "metadata": {
    "colab": {
      "name": "Elif_Ayar_ of LS_DS_123_Introduction_to_Bayesian_Inference_Assignment.ipynb",
      "provenance": [],
      "collapsed_sections": [],
      "include_colab_link": true
    },
    "kernelspec": {
      "name": "python3",
      "display_name": "Python 3"
    }
  },
  "cells": [
    {
      "cell_type": "markdown",
      "metadata": {
        "id": "view-in-github",
        "colab_type": "text"
      },
      "source": [
        "<a href=\"https://colab.research.google.com/github/DataMounster/DS-Unit-1-Sprint-2-Statistics/blob/master/Elif_Ayar__of_LS_DS_123_Introduction_to_Bayesian_Inference_Assignment.ipynb\" target=\"_parent\"><img src=\"https://colab.research.google.com/assets/colab-badge.svg\" alt=\"Open In Colab\"/></a>"
      ]
    },
    {
      "cell_type": "markdown",
      "metadata": {
        "id": "H7OLbevlbd_Z",
        "colab_type": "text"
      },
      "source": [
        "# Lambda School Data Science Module 123\n",
        "\n",
        "## Introduction to Bayesian Inference\n",
        "\n",
        "\n"
      ]
    },
    {
      "cell_type": "markdown",
      "metadata": {
        "id": "P-DzzRk5bf0z",
        "colab_type": "text"
      },
      "source": [
        "## Assignment - Code it up!\n",
        "\n",
        "We used pure math to apply Bayes Theorem to drug tests. Now write Python code to reproduce the results! This is purposefully open ended - you'll have to think about how you should represent probabilities and events. You can and should look things up.\n",
        "\n",
        "Specific goals/targets:\n",
        "\n",
        "### 1) Write a function \n",
        "\n",
        "`def prob_drunk_given_positive(prob_drunk_prior, false_positive_rate):` \n",
        "\n",
        "You should only truly need these two values in order to apply Bayes Theorem. In this example, imagine that individuals are taking a breathalyzer test with an 8% false positive rate, a 100% true positive rate, and that our prior belief about drunk driving in the population is 1/1000. \n",
        " - What is the probability that a person is drunk after one positive breathalyzer test?\n",
        " - What is the probability that a person is drunk after two positive breathalyzer tests?\n",
        " - How many positive breathalyzer tests are needed in order to have a probability that's greater than 95% that a person is drunk beyond the legal limit?\n",
        "\n",
        "### 2) Explore `scipy.stats.bayes_mvs`  \n",
        "Read its documentation, and experiment with it on data you've tested in other ways earlier this week.\n",
        " - Create a visualization comparing the results of a Bayesian approach to a traditional/frequentist approach. (with a large sample size they should look close to identical, however, take this opportunity to practice visualizing condfidence intervals in general. The following are some potential ways that you could visualize confidence intervals on your graph:\n",
        "  - [Matplotlib Error Bars](https://matplotlib.org/3.1.1/api/_as_gen/matplotlib.pyplot.errorbar.html)\n",
        "  - [Seaborn barplot with error bars](https://seaborn.pydata.org/generated/seaborn.barplot.html)\n",
        "  - [Vertical ines to show bounds of confidence interval](https://www.simplypsychology.org/confidence-interval.jpg)\n",
        "  - [Confidence Intervals on Box Plots](https://matplotlib.org/3.1.1/api/_as_gen/matplotlib.axes.Axes.boxplot.html)\n",
        "\n",
        "### 3) In your own words, summarize the difference between Bayesian and Frequentist statistics\n",
        "\n",
        "If you're unsure where to start, check out [this blog post of Bayes theorem with Python](https://dataconomy.com/2015/02/introduction-to-bayes-theorem-with-python/).\n",
        "\n"
      ]
    },
    {
      "cell_type": "markdown",
      "metadata": {
        "id": "925ImY2qpPaq",
        "colab_type": "text"
      },
      "source": [
        "**Assignment Start Here:**\n",
        "\n"
      ]
    },
    {
      "cell_type": "markdown",
      "metadata": {
        "id": "2zHe79M5o1L4",
        "colab_type": "text"
      },
      "source": [
        "1) Write a function\n",
        "def prob_drunk_given_positive(prob_drunk_prior, false_positive_rate):\n",
        "\n",
        "You should only truly need these two values in order to apply Bayes Theorem. In this example, imagine that individuals are taking a breathalyzer test with an 8% false positive rate, a 100% true positive rate, and that our prior belief about drunk driving in the population is 1/1000.\n",
        "\n",
        "a) What is the probability that a person is drunk after one positive breathalyzer test?\n"
      ]
    },
    {
      "cell_type": "code",
      "metadata": {
        "id": "xpVhZyUnbf7o",
        "colab_type": "code",
        "outputId": "765cb14e-9a86-43ac-c947-5ea4a14484ef",
        "colab": {
          "base_uri": "https://localhost:8080/",
          "height": 34
        }
      },
      "source": [
        "# Let's define the variables first based on the given information.\n",
        "drunk= 1/1000\n",
        "not_drunk= 1 - drunk  \n",
        "pos_given_drunk = 1 # true positive\n",
        "pos_given_non_drunk = 0.08 #false positve\n",
        "\n",
        "# First iteration of Bayes Rule (Bayes Theorem)\n",
        "conditional= pos_given_drunk\n",
        "prior=drunk\n",
        "marginal = (pos_given_drunk*drunk) + (pos_given_non_drunk*not_drunk)\n",
        "posterior_probability = (conditional*prior)/marginal\n",
        "\n",
        "print(posterior_probability)"
      ],
      "execution_count": 0,
      "outputs": [
        {
          "output_type": "stream",
          "text": [
            "0.012357884330202669\n"
          ],
          "name": "stdout"
        }
      ]
    },
    {
      "cell_type": "markdown",
      "metadata": {
        "id": "-egwV4x52Q2E",
        "colab_type": "text"
      },
      "source": [
        "The probability that a person is drunk after first positive breathalyzer test is 0.01235788433. This is perty low. \n"
      ]
    },
    {
      "cell_type": "markdown",
      "metadata": {
        "id": "s-A5SKz72bpd",
        "colab_type": "text"
      },
      "source": [
        "b) What is the probability that a person is drunk after two positive breathalyzer tests?"
      ]
    },
    {
      "cell_type": "code",
      "metadata": {
        "id": "zfq6lYLK2a8l",
        "colab_type": "code",
        "outputId": "1db8628d-29dc-40fb-fe56-33afa587c049",
        "colab": {
          "base_uri": "https://localhost:8080/",
          "height": 34
        }
      },
      "source": [
        "# the same person will take the second breathalyzer test\n",
        "drunk=posterior_probability\n",
        "non_drunk=1-drunk\n",
        "\n",
        "# Rest of the variables are the same as above, so just copy and paste\n",
        "pos_given_drunk = 1 # true positive\n",
        "pos_given_non_drunk = 0.08 #false positve\n",
        "\n",
        "# second iteration of Bayes Rule (Bayes Theorem)\n",
        "\n",
        "conditional= pos_given_drunk\n",
        "prior=drunk\n",
        "marginal = (pos_given_drunk*drunk) + (pos_given_non_drunk*not_drunk)\n",
        "posterior_probability = (conditional*prior)/marginal\n",
        "\n",
        "print(posterior_probability)"
      ],
      "execution_count": 0,
      "outputs": [
        {
          "output_type": "stream",
          "text": [
            "0.6262631956114275\n"
          ],
          "name": "stdout"
        }
      ]
    },
    {
      "cell_type": "markdown",
      "metadata": {
        "id": "9agGJ1ah3vZv",
        "colab_type": "text"
      },
      "source": [
        "The probability that a person is drunk after two positive breathalyzer tests is 0.13525210993291495. That means the probability is not enough approaching to 1, and not still realiable result."
      ]
    },
    {
      "cell_type": "markdown",
      "metadata": {
        "id": "aezNpWgi4DdQ",
        "colab_type": "text"
      },
      "source": [
        "c)How many positive breathalyzer tests are needed in order to have a probability that's greater than 95% that a person is drunk beyond the legal limit?"
      ]
    },
    {
      "cell_type": "markdown",
      "metadata": {
        "id": "uS0oW0cb4drb",
        "colab_type": "text"
      },
      "source": [
        "To able to answer this questions, I first need to create a function, then I can run as mamy time as I need to reach or close the probability 1\n"
      ]
    },
    {
      "cell_type": "code",
      "metadata": {
        "id": "oeMa1qwpzUFb",
        "colab_type": "code",
        "colab": {}
      },
      "source": [
        "# Create a function and turn all of that into the function\n",
        "# The function def is given to me \n",
        "# def prob_drunk_given_positive(prob_drunk_prior, false_positive_rate):\"\n",
        "def prob_drunk_given_positive(prob_drunk_prior, false_positive_rate):\n",
        "    posterior=prob_drunk_prior\n",
        "    for test in range(0, 1):\n",
        "        drunk = posterior\n",
        "        non_drunk = 1 - drunk  \n",
        "        conditional = 1  # this is the prob_given_drunk\n",
        "        prior=drunk\n",
        "        pos_given_non_drunk= false_positive_rate  # this is the false positive rate\n",
        "        marginal=(conditional*prior)+(pos_given_non_drunk*non_drunk)\n",
        "        posterior = (conditional*prior)/marginal\n",
        "    return posterior\n",
        "\n"
      ],
      "execution_count": 0,
      "outputs": []
    },
    {
      "cell_type": "code",
      "metadata": {
        "id": "SyC18gagzUDA",
        "colab_type": "code",
        "outputId": "061483d1-41c4-4515-a8bb-d47eed76edb8",
        "colab": {
          "base_uri": "https://localhost:8080/",
          "height": 34
        }
      },
      "source": [
        "# let's try\n",
        "prob_drunk_given_positive(1/1000,0.08)\n",
        "\n",
        "# Function is working if I try just one time run."
      ],
      "execution_count": 0,
      "outputs": [
        {
          "output_type": "execute_result",
          "data": {
            "text/plain": [
              "0.012357884330202669"
            ]
          },
          "metadata": {
            "tags": []
          },
          "execution_count": 67
        }
      ]
    },
    {
      "cell_type": "markdown",
      "metadata": {
        "id": "_-siTpKE_376",
        "colab_type": "text"
      },
      "source": [
        "When I run for loop only in the range of (0,1), It give the same probability which I get above. I have to find at least 95% of people who are drunk with positive test. Thus, I will run the same function in the range of 0-4. \n"
      ]
    },
    {
      "cell_type": "code",
      "metadata": {
        "id": "GlUk399KzUAS",
        "colab_type": "code",
        "colab": {}
      },
      "source": [
        "# copy and paste, then run in range (0,1000)\n",
        "def prob_drunk_given_positive(prob_drunk_prior, false_positive_rate):\n",
        "    posterior=prob_drunk_prior\n",
        "    for test in range(0, 4):\n",
        "        drunk = posterior\n",
        "        non_drunk = 1 - drunk  \n",
        "        conditional = 1  # this is the prob_given_drunk\n",
        "        prior=drunk\n",
        "        pos_given_non_drunk= false_positive_rate  # this is the false positive rate\n",
        "        marginal=(conditional*prior)+(pos_given_non_drunk*non_drunk)\n",
        "        posterior = (conditional*prior)/marginal\n",
        "    return posterior\n"
      ],
      "execution_count": 0,
      "outputs": []
    },
    {
      "cell_type": "code",
      "metadata": {
        "id": "3yvXakFnzT9N",
        "colab_type": "code",
        "outputId": "a5d073f6-3b16-493b-c3da-be9cdc2c3c40",
        "colab": {
          "base_uri": "https://localhost:8080/",
          "height": 34
        }
      },
      "source": [
        "prob_drunk_given_positive(1/1000, 0.08)"
      ],
      "execution_count": 0,
      "outputs": [
        {
          "output_type": "execute_result",
          "data": {
            "text/plain": [
              "0.9606895076105054"
            ]
          },
          "metadata": {
            "tags": []
          },
          "execution_count": 69
        }
      ]
    },
    {
      "cell_type": "markdown",
      "metadata": {
        "id": "7RCeDxR4Byi7",
        "colab_type": "text"
      },
      "source": [
        "To sum up, to able to reach the at least 95% people are drunk with positive test, I have to run at least 4 times or more. "
      ]
    },
    {
      "cell_type": "markdown",
      "metadata": {
        "id": "pSeW-atODhyX",
        "colab_type": "text"
      },
      "source": [
        "2) Explore scipy.stats.bayes_mvs\n",
        "\n"
      ]
    },
    {
      "cell_type": "code",
      "metadata": {
        "id": "S1PfN5BPzT7Y",
        "colab_type": "code",
        "colab": {}
      },
      "source": [
        "import pandas as pd\n",
        "import numpy as np\n",
        "import scipy.stats as stats\n",
        "import matplotlib.pyplot as plt\n",
        "import seaborn as sns\n",
        "adults = pd.read_csv('https://raw.githubusercontent.com/ryanleeallred/datasets/master/adult.csv', na_values=\" ?\")"
      ],
      "execution_count": 0,
      "outputs": []
    },
    {
      "cell_type": "code",
      "metadata": {
        "id": "3-9OsJfezT4S",
        "colab_type": "code",
        "outputId": "2c558679-e052-4c07-f9dc-92e796fdaa9e",
        "colab": {
          "base_uri": "https://localhost:8080/",
          "height": 306
        }
      },
      "source": [
        "adults.head()"
      ],
      "execution_count": 0,
      "outputs": [
        {
          "output_type": "execute_result",
          "data": {
            "text/html": [
              "<div>\n",
              "<style scoped>\n",
              "    .dataframe tbody tr th:only-of-type {\n",
              "        vertical-align: middle;\n",
              "    }\n",
              "\n",
              "    .dataframe tbody tr th {\n",
              "        vertical-align: top;\n",
              "    }\n",
              "\n",
              "    .dataframe thead th {\n",
              "        text-align: right;\n",
              "    }\n",
              "</style>\n",
              "<table border=\"1\" class=\"dataframe\">\n",
              "  <thead>\n",
              "    <tr style=\"text-align: right;\">\n",
              "      <th></th>\n",
              "      <th>age</th>\n",
              "      <th>workclass</th>\n",
              "      <th>fnlwgt</th>\n",
              "      <th>education</th>\n",
              "      <th>education-num</th>\n",
              "      <th>marital-status</th>\n",
              "      <th>occupation</th>\n",
              "      <th>relationship</th>\n",
              "      <th>race</th>\n",
              "      <th>sex</th>\n",
              "      <th>capital-gain</th>\n",
              "      <th>capital-loss</th>\n",
              "      <th>hours-per-week</th>\n",
              "      <th>country</th>\n",
              "      <th>salary</th>\n",
              "    </tr>\n",
              "  </thead>\n",
              "  <tbody>\n",
              "    <tr>\n",
              "      <th>0</th>\n",
              "      <td>39</td>\n",
              "      <td>State-gov</td>\n",
              "      <td>77516</td>\n",
              "      <td>Bachelors</td>\n",
              "      <td>13</td>\n",
              "      <td>Never-married</td>\n",
              "      <td>Adm-clerical</td>\n",
              "      <td>Not-in-family</td>\n",
              "      <td>White</td>\n",
              "      <td>Male</td>\n",
              "      <td>2174</td>\n",
              "      <td>0</td>\n",
              "      <td>40</td>\n",
              "      <td>United-States</td>\n",
              "      <td>&lt;=50K</td>\n",
              "    </tr>\n",
              "    <tr>\n",
              "      <th>1</th>\n",
              "      <td>50</td>\n",
              "      <td>Self-emp-not-inc</td>\n",
              "      <td>83311</td>\n",
              "      <td>Bachelors</td>\n",
              "      <td>13</td>\n",
              "      <td>Married-civ-spouse</td>\n",
              "      <td>Exec-managerial</td>\n",
              "      <td>Husband</td>\n",
              "      <td>White</td>\n",
              "      <td>Male</td>\n",
              "      <td>0</td>\n",
              "      <td>0</td>\n",
              "      <td>13</td>\n",
              "      <td>United-States</td>\n",
              "      <td>&lt;=50K</td>\n",
              "    </tr>\n",
              "    <tr>\n",
              "      <th>2</th>\n",
              "      <td>38</td>\n",
              "      <td>Private</td>\n",
              "      <td>215646</td>\n",
              "      <td>HS-grad</td>\n",
              "      <td>9</td>\n",
              "      <td>Divorced</td>\n",
              "      <td>Handlers-cleaners</td>\n",
              "      <td>Not-in-family</td>\n",
              "      <td>White</td>\n",
              "      <td>Male</td>\n",
              "      <td>0</td>\n",
              "      <td>0</td>\n",
              "      <td>40</td>\n",
              "      <td>United-States</td>\n",
              "      <td>&lt;=50K</td>\n",
              "    </tr>\n",
              "    <tr>\n",
              "      <th>3</th>\n",
              "      <td>53</td>\n",
              "      <td>Private</td>\n",
              "      <td>234721</td>\n",
              "      <td>11th</td>\n",
              "      <td>7</td>\n",
              "      <td>Married-civ-spouse</td>\n",
              "      <td>Handlers-cleaners</td>\n",
              "      <td>Husband</td>\n",
              "      <td>Black</td>\n",
              "      <td>Male</td>\n",
              "      <td>0</td>\n",
              "      <td>0</td>\n",
              "      <td>40</td>\n",
              "      <td>United-States</td>\n",
              "      <td>&lt;=50K</td>\n",
              "    </tr>\n",
              "    <tr>\n",
              "      <th>4</th>\n",
              "      <td>28</td>\n",
              "      <td>Private</td>\n",
              "      <td>338409</td>\n",
              "      <td>Bachelors</td>\n",
              "      <td>13</td>\n",
              "      <td>Married-civ-spouse</td>\n",
              "      <td>Prof-specialty</td>\n",
              "      <td>Wife</td>\n",
              "      <td>Black</td>\n",
              "      <td>Female</td>\n",
              "      <td>0</td>\n",
              "      <td>0</td>\n",
              "      <td>40</td>\n",
              "      <td>Cuba</td>\n",
              "      <td>&lt;=50K</td>\n",
              "    </tr>\n",
              "  </tbody>\n",
              "</table>\n",
              "</div>"
            ],
            "text/plain": [
              "   age          workclass  fnlwgt  ... hours-per-week         country  salary\n",
              "0   39          State-gov   77516  ...             40   United-States   <=50K\n",
              "1   50   Self-emp-not-inc   83311  ...             13   United-States   <=50K\n",
              "2   38            Private  215646  ...             40   United-States   <=50K\n",
              "3   53            Private  234721  ...             40   United-States   <=50K\n",
              "4   28            Private  338409  ...             40            Cuba   <=50K\n",
              "\n",
              "[5 rows x 15 columns]"
            ]
          },
          "metadata": {
            "tags": []
          },
          "execution_count": 92
        }
      ]
    },
    {
      "cell_type": "code",
      "metadata": {
        "id": "MCBKOW6SzT17",
        "colab_type": "code",
        "outputId": "99baf3a2-fc68-4afa-87c1-a37d85e139ce",
        "colab": {
          "base_uri": "https://localhost:8080/",
          "height": 34
        }
      },
      "source": [
        "# Let's look at the hours-per-week\n",
        "adults['hours-per-week'].mean()"
      ],
      "execution_count": 0,
      "outputs": [
        {
          "output_type": "execute_result",
          "data": {
            "text/plain": [
              "40.437455852092995"
            ]
          },
          "metadata": {
            "tags": []
          },
          "execution_count": 100
        }
      ]
    },
    {
      "cell_type": "code",
      "metadata": {
        "id": "jizFgK_yzTya",
        "colab_type": "code",
        "outputId": "2b9f4baa-a563-4783-d66b-1286e085e969",
        "colab": {
          "base_uri": "https://localhost:8080/",
          "height": 68
        }
      },
      "source": [
        "# Confidence interval with scipy.stats.bayes_mvs\n",
        "\n",
        "CI_adults_bayes=stats.bayes_mvs(adults['hours-per-week'], alpha=0.95)[0][1]\n",
        "CI_adults_bayes"
      ],
      "execution_count": 0,
      "outputs": [
        {
          "output_type": "execute_result",
          "data": {
            "text/plain": [
              "(Mean(statistic=40.437455852092995, minmax=(40.303343406780165, 40.571568297405825)),\n",
              " Variance(statistic=152.45431279269027, minmax=(150.11249049743995, 154.7961350879406)),\n",
              " Std_dev(statistic=12.34723907570799, minmax=(12.252407256185776, 12.442070895230202)))"
            ]
          },
          "metadata": {
            "tags": []
          },
          "execution_count": 124
        }
      ]
    },
    {
      "cell_type": "markdown",
      "metadata": {
        "id": "VV3DZAxkMlwZ",
        "colab_type": "text"
      },
      "source": [
        "The mean is certainly inside of the confidence interval"
      ]
    },
    {
      "cell_type": "code",
      "metadata": {
        "id": "lyiJXvS3OeUa",
        "colab_type": "code",
        "outputId": "8062dc97-1551-4364-b460-9c35e12fd259",
        "colab": {
          "base_uri": "https://localhost:8080/",
          "height": 34
        }
      },
      "source": [
        "adults.shape"
      ],
      "execution_count": 0,
      "outputs": [
        {
          "output_type": "execute_result",
          "data": {
            "text/plain": [
              "(32561, 15)"
            ]
          },
          "metadata": {
            "tags": []
          },
          "execution_count": 105
        }
      ]
    },
    {
      "cell_type": "code",
      "metadata": {
        "id": "7EeLleNXzTwj",
        "colab_type": "code",
        "outputId": "077a7f11-008a-4f5e-a703-ba8128593d81",
        "colab": {
          "base_uri": "https://localhost:8080/",
          "height": 34
        }
      },
      "source": [
        "# Let's do frequentist apprach\n",
        "CI_adults_t=stats.t.interval(0.95, adults.shape[0], loc=adults['hours-per-week'].mean(),\n",
        "                             scale=stats.sem(adults['hours-per-week']) )\n",
        "CI_adults_t"
      ],
      "execution_count": 0,
      "outputs": [
        {
          "output_type": "execute_result",
          "data": {
            "text/plain": [
              "(40.30333636181343, 40.57157534237256)"
            ]
          },
          "metadata": {
            "tags": []
          },
          "execution_count": 115
        }
      ]
    },
    {
      "cell_type": "markdown",
      "metadata": {
        "id": "wPCzikLkTHPx",
        "colab_type": "text"
      },
      "source": [
        "The same confidence interval"
      ]
    },
    {
      "cell_type": "code",
      "metadata": {
        "id": "qXzqTyrizTtj",
        "colab_type": "code",
        "outputId": "7def5aed-7792-49f3-c839-26dc4bf02148",
        "colab": {
          "base_uri": "https://localhost:8080/",
          "height": 265
        }
      },
      "source": [
        "#Let's make a graph with KDE.\n",
        "sns.kdeplot(adults['hours-per-week'])\n",
        "plt.axvline(x=CI_adults_bayes[0], color='r')\n",
        "plt.axvline(x=CI_adults_bayes[1], color='r')\n",
        "plt.axvline(x=adults['hours-per-week'].mean(), color='k');\n",
        "\n"
      ],
      "execution_count": 0,
      "outputs": [
        {
          "output_type": "display_data",
          "data": {
            "image/png": "[encoded data removed]",
            "text/plain": [
              "<Figure size 432x288 with 1 Axes>"
            ]
          },
          "metadata": {
            "tags": [],
            "needs_background": "light"
          }
        }
      ]
    },
    {
      "cell_type": "markdown",
      "metadata": {
        "id": "seAbW7DHVGLB",
        "colab_type": "text"
      },
      "source": [
        "Very strange graph, but It works\n"
      ]
    },
    {
      "cell_type": "markdown",
      "metadata": {
        "id": "PSbPn081VMDe",
        "colab_type": "text"
      },
      "source": [
        "3) In your own words, summarize the difference between Bayesian and Frequentist statistics"
      ]
    },
    {
      "cell_type": "markdown",
      "metadata": {
        "id": "TZCAtDXcoILT",
        "colab_type": "text"
      },
      "source": [
        "Frequentist statistics is only one samlpe distribution and we might make a conclusion about Null Hypothesis is right or not. Taking a sample from populations, finding its mean and confidence interval, we could drive the point that population mean should be between these confidence interval numbers. If not, we can say 95% confidence, our null hypothesis on the population mean can be rejected. \n",
        "\n",
        "Bayesian statistics is not only one sample distribution. Bayesian has three steps. First step is a belief about he world. Thus, we built  our first prior and likelihood function, and then we can create the model for belief about the data. Second step is that collection of data and use of our prior belief probabilit to update and check our model whether it is matching with original data or not. Then if the model we create is working, we can update the data with that model in order to understand and predict the posterior data and distribution."
      ]
    },
    {
      "cell_type": "markdown",
      "metadata": {
        "id": "GP7Jv1XvwtkX",
        "colab_type": "text"
      },
      "source": [
        "## Stretch Goals:\n",
        "\n",
        "- Go back and study the content from Modules 1 & 2 to make sure that you're really comfortable with them.\n",
        "- Apply a Bayesian technique to a problem you previously worked (in an assignment or project work) on from a frequentist (standard) perspective\n",
        "- Check out [PyMC3](https://docs.pymc.io/) (note this goes beyond hypothesis tests into modeling) - read the guides and work through some examples\n",
        "- Take PyMC3 further - see if you can build something with it!"
      ]
    },
    {
      "cell_type": "code",
      "metadata": {
        "id": "iDi0eFr1x-v_",
        "colab_type": "code",
        "colab": {}
      },
      "source": [
        ""
      ],
      "execution_count": 0,
      "outputs": []
    }
  ]
}